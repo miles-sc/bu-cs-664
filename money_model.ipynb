{
 "cells": [
  {
   "cell_type": "code",
   "execution_count": 25,
   "id": "8d452aa1-55ae-4128-ade8-0ea32ebb14ce",
   "metadata": {},
   "outputs": [],
   "source": [
    "# Has multi-dimensional arrays and matrices.\n",
    "# Has a large collection of mathematical functions to operate on these arrays.\n",
    "import numpy as np\n",
    "\n",
    "# Data manipulation and analysis.\n",
    "import pandas as pd\n",
    "\n",
    "# Data visualization tools.\n",
    "import seaborn as sns\n",
    "\n",
    "import mesa"
   ]
  },
  {
   "cell_type": "code",
   "execution_count": 26,
   "id": "f73823dc",
   "metadata": {},
   "outputs": [],
   "source": [
    "from mesa import Agent, Model\n",
    "from mesa.time import RandomActivation\n",
    "\n",
    "class MoneyAgent(mesa.Agent):\n",
    "    \"\"\"An agent with fixed initial wealth.\"\"\"\n",
    "\n",
    "    def __init__(self, unique_id, model):\n",
    "        # Pass the parameters to the parent class.\n",
    "        super().__init__(unique_id, model)\n",
    "\n",
    "        # Create the agent's attribute and set the initial values.\n",
    "        self.wealth = 10\n",
    "        self.prev_wealth = 10\n",
    "        self.giving = True\n",
    "\n",
    "\n",
    "    def say_hi(self):\n",
    "        # The agent's step will go here.\n",
    "        # For demonstration purposes we will print the agent's unique_id\n",
    "        print(f\"Hi, I am an agent, you can call me {self.unique_id!s}.\")\n",
    "\n",
    "    def say_wealth(self):\n",
    "        # The agent's step will go here.\n",
    "        # FIXME: need to print the agent's wealth\n",
    "        print(f\"Agent {self.unique_id}: I have {self.wealth} wealth.\")\n",
    "\n",
    "    def exchange(self):\n",
    "        # Verify agent has some wealth\n",
    "        if self.wealth > 0 and self.giving:\n",
    "\n",
    "            other_agent = self.random.choice(self.model.agents)\n",
    "\n",
    "            if other_agent is not None:\n",
    "                give_amount = self.wealth*self.model.give_proportion\n",
    "                other_agent.wealth += give_amount\n",
    "                self.wealth -= give_amount\n",
    "\n",
    "    def bookkeeping(self):\n",
    "        give_prob = ((self.wealth-self.prev_wealth)/5) + self.model.base_give_prob\n",
    "\n",
    "        self.giving=give_prob>(self.random.random())\n",
    "\n",
    "        self.prev_wealth = self.wealth\n",
    "\n",
    "\n",
    "\n",
    "\n",
    "class MoneyModel(mesa.Model):\n",
    "    \"\"\"A model with some number of agents.\"\"\"\n",
    "\n",
    "    def __init__(self, n, give_proportion, base_give_prob, seed=None):\n",
    "        super().__init__(seed=seed)\n",
    "        self.num_agents = n\n",
    "        self.give_proportion = give_proportion\n",
    "        self.base_give_prob = base_give_prob\n",
    "        self.schedule = RandomActivation(self)\n",
    "\n",
    "        for i in range(self.num_agents):\n",
    "            agent = MoneyAgent(i+1, self)\n",
    "            self.schedule.add(agent)\n",
    "\n",
    "    def step(self):\n",
    "        \"\"\"Advance the model by one step.\"\"\"\n",
    "        # This function psuedo-randomly reorders the list of agent objects and\n",
    "        # then iterates through calling the function passed in as the parameter\n",
    "        self.agents.do(\"bookkeeping\")\n",
    "        self.agents.shuffle_do(\"exchange\")"
   ]
  },
  {
   "cell_type": "code",
   "execution_count": 27,
   "id": "08b4ef55",
   "metadata": {},
   "outputs": [
    {
     "data": {
      "image/png": "[encoded data removed]",
      "text/plain": [
       "<Figure size 640x480 with 1 Axes>"
      ]
     },
     "metadata": {},
     "output_type": "display_data"
    }
   ],
   "source": [
    "all_wealth = []\n",
    "for _ in range(100):\n",
    "\n",
    "    agents = 50\n",
    "    steps = 50\n",
    "    give_proportion = 0.2\n",
    "    base_give_prob = 0.6\n",
    "\n",
    "    # Run the model\n",
    "    model = MoneyModel(agents, give_proportion, base_give_prob)\n",
    "    for _ in range(steps):\n",
    "        model.step()\n",
    "\n",
    "    # Store the results\n",
    "    for agent in model.agents:\n",
    "        all_wealth.append(agent.wealth)\n",
    "\n",
    "# Use seaborn\n",
    "g = sns.histplot(all_wealth, discrete=True)\n",
    "g.set(title=\"Wealth distribution\", xlabel=\"Wealth\", ylabel=\"number of agents\");"
   ]
  }
 ],
 "metadata": {
  "kernelspec": {
   "display_name": "3.9.4",
   "language": "python",
   "name": "python3"
  },
  "language_info": {
   "codemirror_mode": {
    "name": "ipython",
    "version": 3
   },
   "file_extension": ".py",
   "mimetype": "text/x-python",
   "name": "python",
   "nbconvert_exporter": "python",
   "pygments_lexer": "ipython3",
   "version": "3.9.4"
  }
 },
 "nbformat": 4,
 "nbformat_minor": 5
}
